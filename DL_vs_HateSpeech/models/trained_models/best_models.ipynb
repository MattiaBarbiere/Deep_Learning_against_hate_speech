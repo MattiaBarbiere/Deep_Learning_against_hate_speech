{
 "cells": [
  {
   "cell_type": "code",
   "execution_count": 1,
   "id": "2fbd1d67",
   "metadata": {},
   "outputs": [
    {
     "name": "stderr",
     "output_type": "stream",
     "text": [
      "c:\\Users\\mattb\\anaconda3\\envs\\DLHS\\lib\\site-packages\\tqdm\\auto.py:21: TqdmWarning: IProgress not found. Please update jupyter and ipywidgets. See https://ipywidgets.readthedocs.io/en/stable/user_install.html\n",
      "  from .autonotebook import tqdm as notebook_tqdm\n"
     ]
    }
   ],
   "source": [
    "# Library imports\n",
    "import torch\n",
    "import torch.nn as nn\n",
    "from torch.utils.data import DataLoader as TorchDataLoader\n",
    "import pandas as pd\n",
    "\n",
    "# Our imports\n",
    "from DL_vs_HateSpeech.loading_data.dataloader import DataLoader\n",
    "from DL_vs_HateSpeech.training.training import collate_fn\n",
    "from DL_vs_HateSpeech.utils import check_frozen_params\n",
    "from DL_vs_HateSpeech.models.utils import load_model_from_path\n",
    "from DL_vs_HateSpeech.evaluation.evaluate import evaluate\n",
    "\n",
    "\n",
    "# Some constants\n",
    "DATA_SUBSET = \"us_pol\"\n",
    "BATCH_SIZE = 1\n",
    "\n",
    "\n",
    "# Load Data\n",
    "train_dataset = DataLoader(type=\"train\", subset=DATA_SUBSET)\n",
    "test_dataset = DataLoader(type=\"test\", subset=DATA_SUBSET)\n",
    "train_loader = TorchDataLoader(train_dataset, batch_size=BATCH_SIZE, shuffle=False, collate_fn=collate_fn)\n",
    "test_loader = TorchDataLoader(test_dataset, batch_size=BATCH_SIZE, shuffle=False, collate_fn=collate_fn)\n"
   ]
  },
  {
   "cell_type": "markdown",
   "id": "9e002ef3",
   "metadata": {},
   "source": [
    "# Best Models"
   ]
  },
  {
   "cell_type": "code",
   "execution_count": 2,
   "id": "21b71b2b",
   "metadata": {},
   "outputs": [],
   "source": [
    "# Dataset to store the model accuracies and F1 scores\n",
    "df = pd.DataFrame(columns=[\"model\", \"accuracy\", \"f1_score_0\", \"f1_score_1\"])"
   ]
  },
  {
   "cell_type": "markdown",
   "id": "ee553aea",
   "metadata": {},
   "source": [
    "## Best model using CLIP of type 16"
   ]
  },
  {
   "cell_type": "markdown",
   "id": "c500f6cc",
   "metadata": {},
   "source": [
    "### With augmentation"
   ]
  },
  {
   "cell_type": "code",
   "execution_count": null,
   "id": "e9de03ba",
   "metadata": {},
   "outputs": [
    {
     "name": "stdout",
     "output_type": "stream",
     "text": [
      "Trainable params: 4473089, Frozen params: 149620737\n"
     ]
    }
   ],
   "source": [
    "path = \"./ModelV2_single_class_clip_16_testing_False\"\n",
    "model_v2_16 = load_model_from_path(path, file_name=\"model_epoch_2_ac_0.647887323943662.pth\")\n",
    "model_v2_16.eval()\n",
    "\n",
    "# Check how many parameters are frozen\n",
    "check_frozen_params(model_v2_16)"
   ]
  },
  {
   "cell_type": "code",
   "execution_count": 3,
   "id": "7f302da0",
   "metadata": {},
   "outputs": [
    {
     "name": "stderr",
     "output_type": "stream",
     "text": [
      "Evaluating: 100%|██████████| 355/355 [01:44<00:00,  3.40it/s]\n"
     ]
    }
   ],
   "source": [
    "avg_loss_test, accuracy_test, f1_test = evaluate(model_v2_16, test_loader, nn.BCEWithLogitsLoss(), device=\"cpu\")"
   ]
  },
  {
   "cell_type": "code",
   "execution_count": 4,
   "id": "4dec320f",
   "metadata": {},
   "outputs": [
    {
     "name": "stdout",
     "output_type": "stream",
     "text": [
      "Average Loss: 0.6341\n",
      "Accuracy: 65.07%\n",
      "F1 Score label 0: 68.69%\n",
      "F1 Score label 1: 60.51%\n"
     ]
    }
   ],
   "source": [
    "print(f\"Average Loss: {avg_loss_test:.4f}\")\n",
    "print(f\"Accuracy: {accuracy_test * 100:.2f}%\")\n",
    "print(f\"F1 Score label 0: {f1_test[0] * 100:.2f}%\")\n",
    "print(f\"F1 Score label 1: {f1_test[1] * 100:.2f}%\")"
   ]
  },
  {
   "cell_type": "markdown",
   "id": "3f56ea26",
   "metadata": {},
   "source": [
    "## Best model using CLIP of type 32"
   ]
  },
  {
   "cell_type": "code",
   "execution_count": 5,
   "id": "be559040",
   "metadata": {},
   "outputs": [
    {
     "name": "stdout",
     "output_type": "stream",
     "text": [
      "Trainable params: 4473089, Frozen params: 151277313\n"
     ]
    }
   ],
   "source": [
    "path = \".\\models\\model_checkpoints\\ModelV2_single_class_clip_32_testing_False\"\n",
    "model_v2_32 = load_model_from_path(path, file_name=\"model_epoch_28_ac_0.6225352112676056.pth\")\n",
    "model_v2_32.eval()\n",
    "\n",
    "# Check how many parameters are frozen\n",
    "check_frozen_params(model_v2_32)"
   ]
  },
  {
   "cell_type": "code",
   "execution_count": 6,
   "id": "844718f3",
   "metadata": {},
   "outputs": [
    {
     "name": "stderr",
     "output_type": "stream",
     "text": [
      "Evaluating: 100%|██████████| 355/355 [01:41<00:00,  3.51it/s]\n"
     ]
    }
   ],
   "source": [
    "avg_loss_test, accuracy_test, f1_test = evaluate(model_v2_16, test_loader, nn.BCEWithLogitsLoss(), device=\"cpu\")"
   ]
  },
  {
   "cell_type": "code",
   "execution_count": 7,
   "id": "bbe64c25",
   "metadata": {},
   "outputs": [
    {
     "name": "stdout",
     "output_type": "stream",
     "text": [
      "Average Loss: 0.6348\n",
      "Accuracy: 65.63%\n",
      "F1 Score label 0: 69.35%\n",
      "F1 Score label 1: 60.90%\n"
     ]
    }
   ],
   "source": [
    "print(f\"Average Loss: {avg_loss_test:.4f}\")\n",
    "print(f\"Accuracy: {accuracy_test * 100:.2f}%\")\n",
    "print(f\"F1 Score label 0: {f1_test[0] * 100:.2f}%\")\n",
    "print(f\"F1 Score label 1: {f1_test[1] * 100:.2f}%\")"
   ]
  }
 ],
 "metadata": {
  "kernelspec": {
   "display_name": "DLHS",
   "language": "python",
   "name": "python3"
  },
  "language_info": {
   "codemirror_mode": {
    "name": "ipython",
    "version": 3
   },
   "file_extension": ".py",
   "mimetype": "text/x-python",
   "name": "python",
   "nbconvert_exporter": "python",
   "pygments_lexer": "ipython3",
   "version": "3.10.16"
  }
 },
 "nbformat": 4,
 "nbformat_minor": 5
}
