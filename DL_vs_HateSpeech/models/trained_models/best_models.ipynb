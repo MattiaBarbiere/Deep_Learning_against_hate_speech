{
 "cells": [
  {
   "cell_type": "code",
   "execution_count": 1,
   "id": "2fbd1d67",
   "metadata": {},
   "outputs": [
    {
     "name": "stderr",
     "output_type": "stream",
     "text": [
      "c:\\Users\\mattb\\anaconda3\\envs\\DLHS\\lib\\site-packages\\tqdm\\auto.py:21: TqdmWarning: IProgress not found. Please update jupyter and ipywidgets. See https://ipywidgets.readthedocs.io/en/stable/user_install.html\n",
      "  from .autonotebook import tqdm as notebook_tqdm\n"
     ]
    }
   ],
   "source": [
    "# Library imports\n",
    "import torch\n",
    "import os\n",
    "import torch.nn as nn\n",
    "from torch.utils.data import DataLoader as TorchDataLoader\n",
    "import pandas as pd\n",
    "\n",
    "# Our imports\n",
    "from DL_vs_HateSpeech.loading_data.dataloader import DataLoader\n",
    "from DL_vs_HateSpeech.training.training import collate_fn\n",
    "from DL_vs_HateSpeech.utils import check_frozen_params\n",
    "from DL_vs_HateSpeech.models.utils import load_model_from_path\n",
    "from DL_vs_HateSpeech.evaluation.evaluate import evaluate\n",
    "\n",
    "\n",
    "# Some constants\n",
    "DATA_SUBSET = \"us_pol\"\n",
    "BATCH_SIZE = 1\n",
    "\n",
    "\n",
    "# Load Data\n",
    "train_dataset = DataLoader(type=\"train\", subset=DATA_SUBSET)\n",
    "test_dataset = DataLoader(type=\"test\", subset=DATA_SUBSET)\n",
    "train_loader = TorchDataLoader(train_dataset, batch_size=BATCH_SIZE, shuffle=False, collate_fn=collate_fn)\n",
    "test_loader = TorchDataLoader(test_dataset, batch_size=BATCH_SIZE, shuffle=False, collate_fn=collate_fn)\n"
   ]
  },
  {
   "cell_type": "code",
   "execution_count": 2,
   "id": "0624dfbf",
   "metadata": {},
   "outputs": [],
   "source": [
    "# Function to evaluate all the models\n",
    "def create_metric_df(path):\n",
    "    \"\"\"\n",
    "    Create a DataFrame with the metrics of all models in the given path.\n",
    "    \"\"\"\n",
    "    # Get all the model files in the directory\n",
    "    model_files = [f for f in os.listdir(path) if f.endswith('.pth')]\n",
    "    \n",
    "    # Dataset to store the model accuracies and F1 scores\n",
    "    df = pd.DataFrame(columns=[\"accuracy\", \"f1_score_0\", \"f1_score_1\", \"avg_loss\"])\n",
    "    \n",
    "    for file_name in model_files:\n",
    "        model_v2_16 = load_model_from_path(path, file_name=file_name, device=\"cpu\")\n",
    "        model_v2_16.eval()\n",
    "        \n",
    "        # Check how many parameters are frozen\n",
    "        check_frozen_params(model_v2_16)\n",
    "        \n",
    "        # Evaluate the model\n",
    "        avg_loss_test, accuracy_test, f1_test = evaluate(model_v2_16, test_loader, nn.BCEWithLogitsLoss(), device=\"cpu\")\n",
    "        \n",
    "        # Print the results\n",
    "        print(f\"Model: {file_name}\")\n",
    "        print(f\"Accuracy: {accuracy_test:.4f}\")\n",
    "        print(f\"F1 Score (0): {f1_test[0]:.4f}\")\n",
    "        print(f\"F1 Score (1): {f1_test[1]:.4f}\")\n",
    "        print(f\"Average Loss: {avg_loss_test:.4f}\")\n",
    "        \n",
    "        # Append the results to the DataFrame\n",
    "        df.loc[len(df)] = {\n",
    "            \"accuracy\": accuracy_test,\n",
    "            \"f1_score_0\": f1_test[0],\n",
    "            \"f1_score_1\": f1_test[1],\n",
    "            \"avg_loss\": avg_loss_test\n",
    "        }\n",
    "    \n",
    "    # Save the DataFrame to a CSV file\n",
    "    df.to_csv(os.path.join(path, \"model_metrics.csv\"), index=False)\n",
    "    return df"
   ]
  },
  {
   "cell_type": "markdown",
   "id": "9e002ef3",
   "metadata": {},
   "source": [
    "# Best Models"
   ]
  },
  {
   "cell_type": "markdown",
   "id": "ee553aea",
   "metadata": {},
   "source": [
    "## Best model using CLIP of type 16"
   ]
  },
  {
   "cell_type": "markdown",
   "id": "c500f6cc",
   "metadata": {},
   "source": [
    "### With augmentation"
   ]
  },
  {
   "cell_type": "code",
   "execution_count": 3,
   "id": "e9de03ba",
   "metadata": {},
   "outputs": [
    {
     "name": "stdout",
     "output_type": "stream",
     "text": [
      "Trainable params: 4473089, Frozen params: 149620737\n"
     ]
    },
    {
     "name": "stderr",
     "output_type": "stream",
     "text": [
      "Evaluating: 100%|██████████| 355/355 [01:44<00:00,  3.39it/s]\n"
     ]
    },
    {
     "name": "stdout",
     "output_type": "stream",
     "text": [
      "Model: model_1.pth\n",
      "Accuracy: 0.4873\n",
      "F1 Score (0): 0.0421\n",
      "F1 Score (1): 0.6500\n",
      "Average Loss: 0.6944\n",
      "Trainable params: 4473089, Frozen params: 149620737\n"
     ]
    },
    {
     "name": "stderr",
     "output_type": "stream",
     "text": [
      "Evaluating: 100%|██████████| 355/355 [02:09<00:00,  2.75it/s]\n"
     ]
    },
    {
     "name": "stdout",
     "output_type": "stream",
     "text": [
      "Model: model_2.pth\n",
      "Accuracy: 0.5831\n",
      "F1 Score (0): 0.6606\n",
      "F1 Score (1): 0.4599\n",
      "Average Loss: 0.6917\n",
      "Trainable params: 4473089, Frozen params: 149620737\n"
     ]
    },
    {
     "name": "stderr",
     "output_type": "stream",
     "text": [
      "Evaluating: 100%|██████████| 355/355 [02:21<00:00,  2.50it/s]\n"
     ]
    },
    {
     "name": "stdout",
     "output_type": "stream",
     "text": [
      "Model: model_3.pth\n",
      "Accuracy: 0.4873\n",
      "F1 Score (0): 0.0619\n",
      "F1 Score (1): 0.6473\n",
      "Average Loss: 0.6934\n",
      "Trainable params: 4473089, Frozen params: 149620737\n"
     ]
    },
    {
     "name": "stderr",
     "output_type": "stream",
     "text": [
      "Evaluating: 100%|██████████| 355/355 [02:22<00:00,  2.49it/s]\n"
     ]
    },
    {
     "name": "stdout",
     "output_type": "stream",
     "text": [
      "Model: model_4.pth\n",
      "Accuracy: 0.4817\n",
      "F1 Score (0): 0.0000\n",
      "F1 Score (1): 0.6502\n",
      "Average Loss: 0.6934\n",
      "Trainable params: 4473089, Frozen params: 149620737\n"
     ]
    },
    {
     "name": "stderr",
     "output_type": "stream",
     "text": [
      "Evaluating: 100%|██████████| 355/355 [02:24<00:00,  2.45it/s]"
     ]
    },
    {
     "name": "stdout",
     "output_type": "stream",
     "text": [
      "Model: model_5.pth\n",
      "Accuracy: 0.4817\n",
      "F1 Score (0): 0.0000\n",
      "F1 Score (1): 0.6502\n",
      "Average Loss: 0.6935\n"
     ]
    },
    {
     "name": "stderr",
     "output_type": "stream",
     "text": [
      "\n"
     ]
    },
    {
     "data": {
      "text/html": [
       "<div>\n",
       "<style scoped>\n",
       "    .dataframe tbody tr th:only-of-type {\n",
       "        vertical-align: middle;\n",
       "    }\n",
       "\n",
       "    .dataframe tbody tr th {\n",
       "        vertical-align: top;\n",
       "    }\n",
       "\n",
       "    .dataframe thead th {\n",
       "        text-align: right;\n",
       "    }\n",
       "</style>\n",
       "<table border=\"1\" class=\"dataframe\">\n",
       "  <thead>\n",
       "    <tr style=\"text-align: right;\">\n",
       "      <th></th>\n",
       "      <th>accuracy</th>\n",
       "      <th>f1_score_0</th>\n",
       "      <th>f1_score_1</th>\n",
       "      <th>avg_loss</th>\n",
       "    </tr>\n",
       "  </thead>\n",
       "  <tbody>\n",
       "    <tr>\n",
       "      <th>0</th>\n",
       "      <td>0.487324</td>\n",
       "      <td>0.042105</td>\n",
       "      <td>0.650000</td>\n",
       "      <td>0.694437</td>\n",
       "    </tr>\n",
       "    <tr>\n",
       "      <th>1</th>\n",
       "      <td>0.583099</td>\n",
       "      <td>0.660550</td>\n",
       "      <td>0.459854</td>\n",
       "      <td>0.691728</td>\n",
       "    </tr>\n",
       "    <tr>\n",
       "      <th>2</th>\n",
       "      <td>0.487324</td>\n",
       "      <td>0.061856</td>\n",
       "      <td>0.647287</td>\n",
       "      <td>0.693399</td>\n",
       "    </tr>\n",
       "    <tr>\n",
       "      <th>3</th>\n",
       "      <td>0.481690</td>\n",
       "      <td>0.000000</td>\n",
       "      <td>0.650190</td>\n",
       "      <td>0.693430</td>\n",
       "    </tr>\n",
       "    <tr>\n",
       "      <th>4</th>\n",
       "      <td>0.481690</td>\n",
       "      <td>0.000000</td>\n",
       "      <td>0.650190</td>\n",
       "      <td>0.693461</td>\n",
       "    </tr>\n",
       "  </tbody>\n",
       "</table>\n",
       "</div>"
      ],
      "text/plain": [
       "   accuracy  f1_score_0  f1_score_1  avg_loss\n",
       "0  0.487324    0.042105    0.650000  0.694437\n",
       "1  0.583099    0.660550    0.459854  0.691728\n",
       "2  0.487324    0.061856    0.647287  0.693399\n",
       "3  0.481690    0.000000    0.650190  0.693430\n",
       "4  0.481690    0.000000    0.650190  0.693461"
      ]
     },
     "execution_count": 3,
     "metadata": {},
     "output_type": "execute_result"
    }
   ],
   "source": [
    "path = \"ModelV2_clip_16_aug_True\"\n",
    "create_metric_df(path)\n"
   ]
  },
  {
   "cell_type": "markdown",
   "id": "02a00142",
   "metadata": {},
   "source": [
    "### Without augmentation"
   ]
  },
  {
   "cell_type": "code",
   "execution_count": 4,
   "id": "d126ca87",
   "metadata": {},
   "outputs": [
    {
     "name": "stdout",
     "output_type": "stream",
     "text": [
      "Trainable params: 4473089, Frozen params: 149620737\n"
     ]
    },
    {
     "name": "stderr",
     "output_type": "stream",
     "text": [
      "Evaluating: 100%|██████████| 355/355 [02:29<00:00,  2.37it/s]\n"
     ]
    },
    {
     "name": "stdout",
     "output_type": "stream",
     "text": [
      "Model: model_1.pth\n",
      "Accuracy: 0.6197\n",
      "F1 Score (0): 0.6154\n",
      "F1 Score (1): 0.6240\n",
      "Average Loss: 0.6428\n",
      "Trainable params: 4473089, Frozen params: 149620737\n"
     ]
    },
    {
     "name": "stderr",
     "output_type": "stream",
     "text": [
      "Evaluating: 100%|██████████| 355/355 [02:23<00:00,  2.48it/s]\n"
     ]
    },
    {
     "name": "stdout",
     "output_type": "stream",
     "text": [
      "Model: model_10.pth\n",
      "Accuracy: 0.5775\n",
      "F1 Score (0): 0.6359\n",
      "F1 Score (1): 0.4966\n",
      "Average Loss: 2.3986\n",
      "Trainable params: 4473089, Frozen params: 149620737\n"
     ]
    },
    {
     "name": "stderr",
     "output_type": "stream",
     "text": [
      "Evaluating: 100%|██████████| 355/355 [02:20<00:00,  2.52it/s]\n"
     ]
    },
    {
     "name": "stdout",
     "output_type": "stream",
     "text": [
      "Model: model_2.pth\n",
      "Accuracy: 0.6451\n",
      "F1 Score (0): 0.6850\n",
      "F1 Score (1): 0.5935\n",
      "Average Loss: 0.6320\n",
      "Trainable params: 4473089, Frozen params: 149620737\n"
     ]
    },
    {
     "name": "stderr",
     "output_type": "stream",
     "text": [
      "Evaluating: 100%|██████████| 355/355 [02:23<00:00,  2.47it/s]\n"
     ]
    },
    {
     "name": "stdout",
     "output_type": "stream",
     "text": [
      "Model: model_3.pth\n",
      "Accuracy: 0.5972\n",
      "F1 Score (0): 0.6697\n",
      "F1 Score (1): 0.4838\n",
      "Average Loss: 1.8523\n",
      "Trainable params: 4473089, Frozen params: 149620737\n"
     ]
    },
    {
     "name": "stderr",
     "output_type": "stream",
     "text": [
      "Evaluating: 100%|██████████| 355/355 [02:32<00:00,  2.33it/s]\n"
     ]
    },
    {
     "name": "stdout",
     "output_type": "stream",
     "text": [
      "Model: model_4.pth\n",
      "Accuracy: 0.6000\n",
      "F1 Score (0): 0.6682\n",
      "F1 Score (1): 0.4965\n",
      "Average Loss: 0.7461\n",
      "Trainable params: 4473089, Frozen params: 149620737\n"
     ]
    },
    {
     "name": "stderr",
     "output_type": "stream",
     "text": [
      "Evaluating: 100%|██████████| 355/355 [02:23<00:00,  2.47it/s]\n"
     ]
    },
    {
     "name": "stdout",
     "output_type": "stream",
     "text": [
      "Model: model_5.pth\n",
      "Accuracy: 0.6085\n",
      "F1 Score (0): 0.6729\n",
      "F1 Score (1): 0.5123\n",
      "Average Loss: 1.5892\n",
      "Trainable params: 4473089, Frozen params: 149620737\n"
     ]
    },
    {
     "name": "stderr",
     "output_type": "stream",
     "text": [
      "Evaluating: 100%|██████████| 355/355 [02:14<00:00,  2.64it/s]\n"
     ]
    },
    {
     "name": "stdout",
     "output_type": "stream",
     "text": [
      "Model: model_6.pth\n",
      "Accuracy: 0.5859\n",
      "F1 Score (0): 0.6755\n",
      "F1 Score (1): 0.4280\n",
      "Average Loss: 2.2696\n",
      "Trainable params: 4473089, Frozen params: 149620737\n"
     ]
    },
    {
     "name": "stderr",
     "output_type": "stream",
     "text": [
      "Evaluating: 100%|██████████| 355/355 [02:07<00:00,  2.78it/s]\n"
     ]
    },
    {
     "name": "stdout",
     "output_type": "stream",
     "text": [
      "Model: model_7.pth\n",
      "Accuracy: 0.6169\n",
      "F1 Score (0): 0.6495\n",
      "F1 Score (1): 0.5776\n",
      "Average Loss: 2.0357\n",
      "Trainable params: 4473089, Frozen params: 149620737\n"
     ]
    },
    {
     "name": "stderr",
     "output_type": "stream",
     "text": [
      "Evaluating: 100%|██████████| 355/355 [02:05<00:00,  2.82it/s]\n"
     ]
    },
    {
     "name": "stdout",
     "output_type": "stream",
     "text": [
      "Model: model_8.pth\n",
      "Accuracy: 0.5972\n",
      "F1 Score (0): 0.6521\n",
      "F1 Score (1): 0.5217\n",
      "Average Loss: 1.7629\n",
      "Trainable params: 4473089, Frozen params: 149620737\n"
     ]
    },
    {
     "name": "stderr",
     "output_type": "stream",
     "text": [
      "Evaluating: 100%|██████████| 355/355 [02:08<00:00,  2.77it/s]"
     ]
    },
    {
     "name": "stdout",
     "output_type": "stream",
     "text": [
      "Model: model_9.pth\n",
      "Accuracy: 0.6254\n",
      "F1 Score (0): 0.6616\n",
      "F1 Score (1): 0.5804\n",
      "Average Loss: 2.2509\n"
     ]
    },
    {
     "name": "stderr",
     "output_type": "stream",
     "text": [
      "\n"
     ]
    },
    {
     "data": {
      "text/html": [
       "<div>\n",
       "<style scoped>\n",
       "    .dataframe tbody tr th:only-of-type {\n",
       "        vertical-align: middle;\n",
       "    }\n",
       "\n",
       "    .dataframe tbody tr th {\n",
       "        vertical-align: top;\n",
       "    }\n",
       "\n",
       "    .dataframe thead th {\n",
       "        text-align: right;\n",
       "    }\n",
       "</style>\n",
       "<table border=\"1\" class=\"dataframe\">\n",
       "  <thead>\n",
       "    <tr style=\"text-align: right;\">\n",
       "      <th></th>\n",
       "      <th>accuracy</th>\n",
       "      <th>f1_score_0</th>\n",
       "      <th>f1_score_1</th>\n",
       "      <th>avg_loss</th>\n",
       "    </tr>\n",
       "  </thead>\n",
       "  <tbody>\n",
       "    <tr>\n",
       "      <th>0</th>\n",
       "      <td>0.619718</td>\n",
       "      <td>0.615385</td>\n",
       "      <td>0.623955</td>\n",
       "      <td>0.642766</td>\n",
       "    </tr>\n",
       "    <tr>\n",
       "      <th>1</th>\n",
       "      <td>0.577465</td>\n",
       "      <td>0.635922</td>\n",
       "      <td>0.496644</td>\n",
       "      <td>2.398572</td>\n",
       "    </tr>\n",
       "    <tr>\n",
       "      <th>2</th>\n",
       "      <td>0.645070</td>\n",
       "      <td>0.685000</td>\n",
       "      <td>0.593548</td>\n",
       "      <td>0.632012</td>\n",
       "    </tr>\n",
       "    <tr>\n",
       "      <th>3</th>\n",
       "      <td>0.597183</td>\n",
       "      <td>0.669746</td>\n",
       "      <td>0.483755</td>\n",
       "      <td>1.852317</td>\n",
       "    </tr>\n",
       "    <tr>\n",
       "      <th>4</th>\n",
       "      <td>0.600000</td>\n",
       "      <td>0.668224</td>\n",
       "      <td>0.496454</td>\n",
       "      <td>0.746093</td>\n",
       "    </tr>\n",
       "    <tr>\n",
       "      <th>5</th>\n",
       "      <td>0.608451</td>\n",
       "      <td>0.672941</td>\n",
       "      <td>0.512281</td>\n",
       "      <td>1.589199</td>\n",
       "    </tr>\n",
       "    <tr>\n",
       "      <th>6</th>\n",
       "      <td>0.585915</td>\n",
       "      <td>0.675497</td>\n",
       "      <td>0.428016</td>\n",
       "      <td>2.269578</td>\n",
       "    </tr>\n",
       "    <tr>\n",
       "      <th>7</th>\n",
       "      <td>0.616901</td>\n",
       "      <td>0.649485</td>\n",
       "      <td>0.577640</td>\n",
       "      <td>2.035747</td>\n",
       "    </tr>\n",
       "    <tr>\n",
       "      <th>8</th>\n",
       "      <td>0.597183</td>\n",
       "      <td>0.652068</td>\n",
       "      <td>0.521739</td>\n",
       "      <td>1.762853</td>\n",
       "    </tr>\n",
       "    <tr>\n",
       "      <th>9</th>\n",
       "      <td>0.625352</td>\n",
       "      <td>0.661578</td>\n",
       "      <td>0.580442</td>\n",
       "      <td>2.250937</td>\n",
       "    </tr>\n",
       "  </tbody>\n",
       "</table>\n",
       "</div>"
      ],
      "text/plain": [
       "   accuracy  f1_score_0  f1_score_1  avg_loss\n",
       "0  0.619718    0.615385    0.623955  0.642766\n",
       "1  0.577465    0.635922    0.496644  2.398572\n",
       "2  0.645070    0.685000    0.593548  0.632012\n",
       "3  0.597183    0.669746    0.483755  1.852317\n",
       "4  0.600000    0.668224    0.496454  0.746093\n",
       "5  0.608451    0.672941    0.512281  1.589199\n",
       "6  0.585915    0.675497    0.428016  2.269578\n",
       "7  0.616901    0.649485    0.577640  2.035747\n",
       "8  0.597183    0.652068    0.521739  1.762853\n",
       "9  0.625352    0.661578    0.580442  2.250937"
      ]
     },
     "execution_count": 4,
     "metadata": {},
     "output_type": "execute_result"
    }
   ],
   "source": [
    "path = \"ModelV2_clip_16_aug_False\"\n",
    "create_metric_df(path)"
   ]
  },
  {
   "cell_type": "markdown",
   "id": "3f56ea26",
   "metadata": {},
   "source": [
    "## Best model using CLIP of type 32"
   ]
  },
  {
   "cell_type": "markdown",
   "id": "0e68b874",
   "metadata": {},
   "source": [
    "### With augmentation"
   ]
  },
  {
   "cell_type": "code",
   "execution_count": 5,
   "id": "7609a474",
   "metadata": {},
   "outputs": [
    {
     "name": "stdout",
     "output_type": "stream",
     "text": [
      "Trainable params: 4473089, Frozen params: 151277313\n"
     ]
    },
    {
     "name": "stderr",
     "output_type": "stream",
     "text": [
      "Evaluating: 100%|██████████| 355/355 [01:05<00:00,  5.42it/s]\n"
     ]
    },
    {
     "name": "stdout",
     "output_type": "stream",
     "text": [
      "Model: model_epoch_10_ac_0.504225352112676.pth\n",
      "Accuracy: 0.5014\n",
      "F1 Score (0): 0.2594\n",
      "F1 Score (1): 0.6242\n",
      "Average Loss: 0.6932\n",
      "Trainable params: 4473089, Frozen params: 151277313\n"
     ]
    },
    {
     "name": "stderr",
     "output_type": "stream",
     "text": [
      "Evaluating: 100%|██████████| 355/355 [01:04<00:00,  5.50it/s]\n"
     ]
    },
    {
     "name": "stdout",
     "output_type": "stream",
     "text": [
      "Model: model_epoch_20_ac_0.476056338028169.pth\n",
      "Accuracy: 0.4761\n",
      "F1 Score (0): 0.0000\n",
      "F1 Score (1): 0.6450\n",
      "Average Loss: 0.6936\n",
      "Trainable params: 4473089, Frozen params: 151277313\n"
     ]
    },
    {
     "name": "stderr",
     "output_type": "stream",
     "text": [
      "Evaluating: 100%|██████████| 355/355 [01:04<00:00,  5.51it/s]\n"
     ]
    },
    {
     "name": "stdout",
     "output_type": "stream",
     "text": [
      "Model: model_epoch_30_ac_0.49014084507042255.pth\n",
      "Accuracy: 0.4901\n",
      "F1 Score (0): 0.0524\n",
      "F1 Score (1): 0.6513\n",
      "Average Loss: 0.6933\n",
      "Trainable params: 4473089, Frozen params: 151277313\n"
     ]
    },
    {
     "name": "stderr",
     "output_type": "stream",
     "text": [
      "Evaluating: 100%|██████████| 355/355 [01:04<00:00,  5.53it/s]\n"
     ]
    },
    {
     "name": "stdout",
     "output_type": "stream",
     "text": [
      "Model: model_epoch_40_ac_0.48732394366197185.pth\n",
      "Accuracy: 0.4845\n",
      "F1 Score (0): 0.0214\n",
      "F1 Score (1): 0.6501\n",
      "Average Loss: 0.6934\n",
      "Trainable params: 4473089, Frozen params: 151277313\n"
     ]
    },
    {
     "name": "stderr",
     "output_type": "stream",
     "text": [
      "Evaluating: 100%|██████████| 355/355 [01:05<00:00,  5.45it/s]"
     ]
    },
    {
     "name": "stdout",
     "output_type": "stream",
     "text": [
      "Model: model_epoch_50_ac_0.4788732394366197.pth\n",
      "Accuracy: 0.4873\n",
      "F1 Score (0): 0.0319\n",
      "F1 Score (1): 0.6513\n",
      "Average Loss: 0.6931\n"
     ]
    },
    {
     "name": "stderr",
     "output_type": "stream",
     "text": [
      "\n"
     ]
    },
    {
     "data": {
      "text/html": [
       "<div>\n",
       "<style scoped>\n",
       "    .dataframe tbody tr th:only-of-type {\n",
       "        vertical-align: middle;\n",
       "    }\n",
       "\n",
       "    .dataframe tbody tr th {\n",
       "        vertical-align: top;\n",
       "    }\n",
       "\n",
       "    .dataframe thead th {\n",
       "        text-align: right;\n",
       "    }\n",
       "</style>\n",
       "<table border=\"1\" class=\"dataframe\">\n",
       "  <thead>\n",
       "    <tr style=\"text-align: right;\">\n",
       "      <th></th>\n",
       "      <th>accuracy</th>\n",
       "      <th>f1_score_0</th>\n",
       "      <th>f1_score_1</th>\n",
       "      <th>avg_loss</th>\n",
       "    </tr>\n",
       "  </thead>\n",
       "  <tbody>\n",
       "    <tr>\n",
       "      <th>0</th>\n",
       "      <td>0.501408</td>\n",
       "      <td>0.259414</td>\n",
       "      <td>0.624204</td>\n",
       "      <td>0.693226</td>\n",
       "    </tr>\n",
       "    <tr>\n",
       "      <th>1</th>\n",
       "      <td>0.476056</td>\n",
       "      <td>0.000000</td>\n",
       "      <td>0.645038</td>\n",
       "      <td>0.693593</td>\n",
       "    </tr>\n",
       "    <tr>\n",
       "      <th>2</th>\n",
       "      <td>0.490141</td>\n",
       "      <td>0.052356</td>\n",
       "      <td>0.651252</td>\n",
       "      <td>0.693282</td>\n",
       "    </tr>\n",
       "    <tr>\n",
       "      <th>3</th>\n",
       "      <td>0.484507</td>\n",
       "      <td>0.021390</td>\n",
       "      <td>0.650096</td>\n",
       "      <td>0.693428</td>\n",
       "    </tr>\n",
       "    <tr>\n",
       "      <th>4</th>\n",
       "      <td>0.487324</td>\n",
       "      <td>0.031915</td>\n",
       "      <td>0.651341</td>\n",
       "      <td>0.693139</td>\n",
       "    </tr>\n",
       "  </tbody>\n",
       "</table>\n",
       "</div>"
      ],
      "text/plain": [
       "   accuracy  f1_score_0  f1_score_1  avg_loss\n",
       "0  0.501408    0.259414    0.624204  0.693226\n",
       "1  0.476056    0.000000    0.645038  0.693593\n",
       "2  0.490141    0.052356    0.651252  0.693282\n",
       "3  0.484507    0.021390    0.650096  0.693428\n",
       "4  0.487324    0.031915    0.651341  0.693139"
      ]
     },
     "execution_count": 5,
     "metadata": {},
     "output_type": "execute_result"
    }
   ],
   "source": [
    "path = \"ModelV2_clip_32_aug_True\"\n",
    "create_metric_df(path)\n"
   ]
  },
  {
   "cell_type": "markdown",
   "id": "0fd2c9df",
   "metadata": {},
   "source": [
    "### Without augmentation"
   ]
  },
  {
   "cell_type": "code",
   "execution_count": 6,
   "id": "d5442e69",
   "metadata": {},
   "outputs": [
    {
     "name": "stdout",
     "output_type": "stream",
     "text": [
      "Trainable params: 4473089, Frozen params: 151277313\n"
     ]
    },
    {
     "name": "stderr",
     "output_type": "stream",
     "text": [
      "Evaluating: 100%|██████████| 355/355 [01:04<00:00,  5.54it/s]\n"
     ]
    },
    {
     "name": "stdout",
     "output_type": "stream",
     "text": [
      "Model: model_1.pth\n",
      "Accuracy: 0.5859\n",
      "F1 Score (0): 0.6038\n",
      "F1 Score (1): 0.5664\n",
      "Average Loss: 0.6650\n",
      "Trainable params: 4473089, Frozen params: 151277313\n"
     ]
    },
    {
     "name": "stderr",
     "output_type": "stream",
     "text": [
      "Evaluating: 100%|██████████| 355/355 [01:04<00:00,  5.49it/s]\n"
     ]
    },
    {
     "name": "stdout",
     "output_type": "stream",
     "text": [
      "Model: model_10.pth\n",
      "Accuracy: 0.5662\n",
      "F1 Score (0): 0.5746\n",
      "F1 Score (1): 0.5575\n",
      "Average Loss: 2.2015\n",
      "Trainable params: 4473089, Frozen params: 151277313\n"
     ]
    },
    {
     "name": "stderr",
     "output_type": "stream",
     "text": [
      "Evaluating: 100%|██████████| 355/355 [01:04<00:00,  5.51it/s]\n"
     ]
    },
    {
     "name": "stdout",
     "output_type": "stream",
     "text": [
      "Model: model_2.pth\n",
      "Accuracy: 0.5887\n",
      "F1 Score (0): 0.5466\n",
      "F1 Score (1): 0.6237\n",
      "Average Loss: 0.6805\n",
      "Trainable params: 4473089, Frozen params: 151277313\n"
     ]
    },
    {
     "name": "stderr",
     "output_type": "stream",
     "text": [
      "Evaluating: 100%|██████████| 355/355 [01:04<00:00,  5.47it/s]\n"
     ]
    },
    {
     "name": "stdout",
     "output_type": "stream",
     "text": [
      "Model: model_3.pth\n",
      "Accuracy: 0.5690\n",
      "F1 Score (0): 0.5920\n",
      "F1 Score (1): 0.5433\n",
      "Average Loss: 0.6797\n",
      "Trainable params: 4473089, Frozen params: 151277313\n"
     ]
    },
    {
     "name": "stderr",
     "output_type": "stream",
     "text": [
      "Evaluating: 100%|██████████| 355/355 [01:04<00:00,  5.47it/s]\n"
     ]
    },
    {
     "name": "stdout",
     "output_type": "stream",
     "text": [
      "Model: model_4.pth\n",
      "Accuracy: 0.5408\n",
      "F1 Score (0): 0.4985\n",
      "F1 Score (1): 0.5766\n",
      "Average Loss: 1.9660\n",
      "Trainable params: 4473089, Frozen params: 151277313\n"
     ]
    },
    {
     "name": "stderr",
     "output_type": "stream",
     "text": [
      "Evaluating: 100%|██████████| 355/355 [01:04<00:00,  5.53it/s]\n"
     ]
    },
    {
     "name": "stdout",
     "output_type": "stream",
     "text": [
      "Model: model_5.pth\n",
      "Accuracy: 0.5944\n",
      "F1 Score (0): 0.6000\n",
      "F1 Score (1): 0.5886\n",
      "Average Loss: 1.7066\n",
      "Trainable params: 4473089, Frozen params: 151277313\n"
     ]
    },
    {
     "name": "stderr",
     "output_type": "stream",
     "text": [
      "Evaluating: 100%|██████████| 355/355 [01:18<00:00,  4.50it/s]\n"
     ]
    },
    {
     "name": "stdout",
     "output_type": "stream",
     "text": [
      "Model: model_6.pth\n",
      "Accuracy: 0.5493\n",
      "F1 Score (0): 0.5855\n",
      "F1 Score (1): 0.5062\n",
      "Average Loss: 1.4033\n",
      "Trainable params: 4473089, Frozen params: 151277313\n"
     ]
    },
    {
     "name": "stderr",
     "output_type": "stream",
     "text": [
      "Evaluating: 100%|██████████| 355/355 [01:07<00:00,  5.26it/s]\n"
     ]
    },
    {
     "name": "stdout",
     "output_type": "stream",
     "text": [
      "Model: model_7.pth\n",
      "Accuracy: 0.5746\n",
      "F1 Score (0): 0.5698\n",
      "F1 Score (1): 0.5794\n",
      "Average Loss: 1.5673\n",
      "Trainable params: 4473089, Frozen params: 151277313\n"
     ]
    },
    {
     "name": "stderr",
     "output_type": "stream",
     "text": [
      "Evaluating: 100%|██████████| 355/355 [01:13<00:00,  4.85it/s]\n"
     ]
    },
    {
     "name": "stdout",
     "output_type": "stream",
     "text": [
      "Model: model_8.pth\n",
      "Accuracy: 0.5690\n",
      "F1 Score (0): 0.5591\n",
      "F1 Score (1): 0.5785\n",
      "Average Loss: 1.8547\n",
      "Trainable params: 4473089, Frozen params: 151277313\n"
     ]
    },
    {
     "name": "stderr",
     "output_type": "stream",
     "text": [
      "Evaluating: 100%|██████████| 355/355 [01:14<00:00,  4.76it/s]"
     ]
    },
    {
     "name": "stdout",
     "output_type": "stream",
     "text": [
      "Model: model_9.pth\n",
      "Accuracy: 0.5803\n",
      "F1 Score (0): 0.6005\n",
      "F1 Score (1): 0.5579\n",
      "Average Loss: 1.7532\n"
     ]
    },
    {
     "name": "stderr",
     "output_type": "stream",
     "text": [
      "\n"
     ]
    },
    {
     "data": {
      "text/html": [
       "<div>\n",
       "<style scoped>\n",
       "    .dataframe tbody tr th:only-of-type {\n",
       "        vertical-align: middle;\n",
       "    }\n",
       "\n",
       "    .dataframe tbody tr th {\n",
       "        vertical-align: top;\n",
       "    }\n",
       "\n",
       "    .dataframe thead th {\n",
       "        text-align: right;\n",
       "    }\n",
       "</style>\n",
       "<table border=\"1\" class=\"dataframe\">\n",
       "  <thead>\n",
       "    <tr style=\"text-align: right;\">\n",
       "      <th></th>\n",
       "      <th>accuracy</th>\n",
       "      <th>f1_score_0</th>\n",
       "      <th>f1_score_1</th>\n",
       "      <th>avg_loss</th>\n",
       "    </tr>\n",
       "  </thead>\n",
       "  <tbody>\n",
       "    <tr>\n",
       "      <th>0</th>\n",
       "      <td>0.585915</td>\n",
       "      <td>0.603774</td>\n",
       "      <td>0.566372</td>\n",
       "      <td>0.665003</td>\n",
       "    </tr>\n",
       "    <tr>\n",
       "      <th>1</th>\n",
       "      <td>0.566197</td>\n",
       "      <td>0.574586</td>\n",
       "      <td>0.557471</td>\n",
       "      <td>2.201488</td>\n",
       "    </tr>\n",
       "    <tr>\n",
       "      <th>2</th>\n",
       "      <td>0.588732</td>\n",
       "      <td>0.546584</td>\n",
       "      <td>0.623711</td>\n",
       "      <td>0.680470</td>\n",
       "    </tr>\n",
       "    <tr>\n",
       "      <th>3</th>\n",
       "      <td>0.569014</td>\n",
       "      <td>0.592000</td>\n",
       "      <td>0.543284</td>\n",
       "      <td>0.679677</td>\n",
       "    </tr>\n",
       "    <tr>\n",
       "      <th>4</th>\n",
       "      <td>0.540845</td>\n",
       "      <td>0.498462</td>\n",
       "      <td>0.576623</td>\n",
       "      <td>1.966046</td>\n",
       "    </tr>\n",
       "    <tr>\n",
       "      <th>5</th>\n",
       "      <td>0.594366</td>\n",
       "      <td>0.600000</td>\n",
       "      <td>0.588571</td>\n",
       "      <td>1.706553</td>\n",
       "    </tr>\n",
       "    <tr>\n",
       "      <th>6</th>\n",
       "      <td>0.549296</td>\n",
       "      <td>0.585492</td>\n",
       "      <td>0.506173</td>\n",
       "      <td>1.403328</td>\n",
       "    </tr>\n",
       "    <tr>\n",
       "      <th>7</th>\n",
       "      <td>0.574648</td>\n",
       "      <td>0.569801</td>\n",
       "      <td>0.579387</td>\n",
       "      <td>1.567297</td>\n",
       "    </tr>\n",
       "    <tr>\n",
       "      <th>8</th>\n",
       "      <td>0.569014</td>\n",
       "      <td>0.559078</td>\n",
       "      <td>0.578512</td>\n",
       "      <td>1.854700</td>\n",
       "    </tr>\n",
       "    <tr>\n",
       "      <th>9</th>\n",
       "      <td>0.580282</td>\n",
       "      <td>0.600536</td>\n",
       "      <td>0.557864</td>\n",
       "      <td>1.753170</td>\n",
       "    </tr>\n",
       "  </tbody>\n",
       "</table>\n",
       "</div>"
      ],
      "text/plain": [
       "   accuracy  f1_score_0  f1_score_1  avg_loss\n",
       "0  0.585915    0.603774    0.566372  0.665003\n",
       "1  0.566197    0.574586    0.557471  2.201488\n",
       "2  0.588732    0.546584    0.623711  0.680470\n",
       "3  0.569014    0.592000    0.543284  0.679677\n",
       "4  0.540845    0.498462    0.576623  1.966046\n",
       "5  0.594366    0.600000    0.588571  1.706553\n",
       "6  0.549296    0.585492    0.506173  1.403328\n",
       "7  0.574648    0.569801    0.579387  1.567297\n",
       "8  0.569014    0.559078    0.578512  1.854700\n",
       "9  0.580282    0.600536    0.557864  1.753170"
      ]
     },
     "execution_count": 6,
     "metadata": {},
     "output_type": "execute_result"
    }
   ],
   "source": [
    "path = \"ModelV2_clip_32_aug_False\"\n",
    "create_metric_df(path)"
   ]
  }
 ],
 "metadata": {
  "kernelspec": {
   "display_name": "DLHS",
   "language": "python",
   "name": "python3"
  },
  "language_info": {
   "codemirror_mode": {
    "name": "ipython",
    "version": 3
   },
   "file_extension": ".py",
   "mimetype": "text/x-python",
   "name": "python",
   "nbconvert_exporter": "python",
   "pygments_lexer": "ipython3",
   "version": "3.10.16"
  }
 },
 "nbformat": 4,
 "nbformat_minor": 5
}
